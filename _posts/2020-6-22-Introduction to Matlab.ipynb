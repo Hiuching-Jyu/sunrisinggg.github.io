{
 "cells": [
  {
   "cell_type": "markdown",
   "metadata": {},
   "source": [
    "## Hi, there! Let's get started with Matlab from here!\n",
    "**😉该笔记内容的用途**\n",
    "\n",
    "**1.便于matlab初学者查阅和学习，在这个博客中你将会学到Matlab的入门知识，包括数组的输入与运算，很可惜只能将静态的ipynb文件放在这里，而不能让观看者亲自运行，当然，用jupyter notebook还是比直接用markdown好看一丢丢的**\n",
    "\n",
    "**2.便于作者自己在未来不小心丢掉matlab想要捡起来的时候查阅基本语法🙄，因此该笔记其实不具有太大的参考价值。**\n",
    "\n",
    "**3.通过制作这次笔记，作者成功让jupyter notebook支持matlab语法，并将其嵌入到博客中，这是该笔记最大的价值所在。**\n",
    "\n",
    "**👉更多语法请参考 Matlab官网文档 https://ww2.mathworks.cn/help/matlab/index.html**\n",
    "\n",
    "**👉更完整的联系请参考 Matlab官方入门教程https://matlabacademy.mathworks.com/R2020a/cn/portal.html?course=gettingstarted**\n",
    "\n",
    "**👉如何将jupyter notebook嵌入博客请点击该链接https://www.cnblogs.com/lky520hs/p/11096896.html**"
   ]
  },
  {
   "cell_type": "markdown",
   "metadata": {},
   "source": [
    "### NO.1 输入具有特定数值和规定行列的数组\n",
    "**创建一个名为x的矩阵，矩阵第一行由数字1 2 3组成，第二行由4 5 6组成。**"
   ]
  },
  {
   "cell_type": "code",
   "execution_count": 4,
   "metadata": {},
   "outputs": [
    {
     "name": "stdout",
     "output_type": "stream",
     "text": [
      "\n",
      "x =\n",
      "\n",
      "     1     2     3\n",
      "     4     5     6\n",
      "\n",
      "\n"
     ]
    }
   ],
   "source": [
    " x = [1 2 3;4 5 6]"
   ]
  },
  {
   "cell_type": "markdown",
   "metadata": {},
   "source": [
    "### NO.2 运算＋转置\n",
    "**在方括号内直接进行计算得出相同结果，并将该矩阵转置,令其为y。**"
   ]
  },
  {
   "cell_type": "code",
   "execution_count": 3,
   "metadata": {},
   "outputs": [
    {
     "name": "stdout",
     "output_type": "stream",
     "text": [
      "\n",
      "y =\n",
      "\n",
      "     1     4\n",
      "     2     5\n",
      "     3     6\n",
      "\n",
      "\n"
     ]
    }
   ],
   "source": [
    "y = [1 2 3; sqrt(16) 5 6]'"
   ]
  },
  {
   "cell_type": "markdown",
   "metadata": {},
   "source": [
    "### NO.4 设置间距\n",
    "**创建一个行向量x，使用冒号“：”，指定以1为开头，2为间距，9为结尾（此处不需要方括号）。**"
   ]
  },
  {
   "cell_type": "code",
   "execution_count": 4,
   "metadata": {},
   "outputs": [
    {
     "name": "stdout",
     "output_type": "stream",
     "text": [
      "\n",
      "x =\n",
      "\n",
      "     1     3     5     7     9\n",
      "\n",
      "\n"
     ]
    }
   ],
   "source": [
    "x = 1:2:9"
   ]
  },
  {
   "cell_type": "markdown",
   "metadata": {},
   "source": [
    "### NO.5 设置元素数\n",
    "**创建一个列向量y，使用linspace(),指定以1为开头，9为结尾，共包含5个元素。**"
   ]
  },
  {
   "cell_type": "code",
   "execution_count": 5,
   "metadata": {},
   "outputs": [
    {
     "name": "stdout",
     "output_type": "stream",
     "text": [
      "\n",
      "y =\n",
      "\n",
      "     1\n",
      "     3\n",
      "     5\n",
      "     7\n",
      "     9\n",
      "\n",
      "\n"
     ]
    }
   ],
   "source": [
    "y = linspace(1,9,5)'"
   ]
  },
  {
   "cell_type": "markdown",
   "metadata": {},
   "source": [
    "### NO.6 随机数矩阵\n",
    "  **使用rand()创建一个2*3矩阵x。**"
   ]
  },
  {
   "cell_type": "code",
   "execution_count": 6,
   "metadata": {},
   "outputs": [
    {
     "name": "stdout",
     "output_type": "stream",
     "text": [
      "\n",
      "x =\n",
      "\n",
      "    0.8147    0.9134    0.2785    0.9649\n",
      "    0.9058    0.6324    0.5469    0.1576\n",
      "    0.1270    0.0975    0.9575    0.9706\n",
      "\n",
      "\n"
     ]
    }
   ],
   "source": [
    "x = rand(3,4)"
   ]
  },
  {
   "cell_type": "markdown",
   "metadata": {},
   "source": [
    "### NO.7 数组索引\n",
    "**（1）使用end关键字和符号“:”获取x矩阵的倒数第二列的所有值,并将其赋值给新矩阵z。**"
   ]
  },
  {
   "cell_type": "code",
   "execution_count": 7,
   "metadata": {
    "scrolled": true
   },
   "outputs": [
    {
     "name": "stdout",
     "output_type": "stream",
     "text": [
      "\n",
      "z =\n",
      "\n",
      "    0.2785\n",
      "    0.5469\n",
      "    0.9575\n",
      "\n",
      "\n"
     ]
    }
   ],
   "source": [
    "z = x(:,end-1)"
   ]
  },
  {
   "cell_type": "markdown",
   "metadata": {},
   "source": [
    "**（2）使用符号“：”获取x矩阵第一到第三列所有元素，并将其值赋给新矩阵m。**"
   ]
  },
  {
   "cell_type": "code",
   "execution_count": 8,
   "metadata": {},
   "outputs": [
    {
     "name": "stdout",
     "output_type": "stream",
     "text": [
      "\n",
      "m =\n",
      "\n",
      "    0.8147    0.9134    0.2785\n",
      "    0.9058    0.6324    0.5469\n",
      "    0.1270    0.0975    0.9575\n",
      "\n",
      "\n"
     ]
    }
   ],
   "source": [
    "m = x(:,1:3)"
   ]
  },
  {
   "cell_type": "markdown",
   "metadata": {},
   "source": [
    "### NO.8 改变数组中的值\n",
    "**（1）将m中的第3个值（从上到下再从左到右）替换为0.1000。\n",
    "（2）将m中第5个值更改为第6个值。**"
   ]
  },
  {
   "cell_type": "code",
   "execution_count": 9,
   "metadata": {},
   "outputs": [
    {
     "name": "stdout",
     "output_type": "stream",
     "text": [
      "\n",
      "m =\n",
      "\n",
      "    0.8147    0.9134    0.2785\n",
      "    0.9058    0.6324    0.5469\n",
      "    0.1000    0.0975    0.9575\n",
      "\n",
      "\n",
      "m =\n",
      "\n",
      "    0.8147    0.9134    0.2785\n",
      "    0.9058    0.0975    0.5469\n",
      "    0.1000    0.0975    0.9575\n",
      "\n",
      "\n"
     ]
    }
   ],
   "source": [
    "m(3) = 0.1000\n",
    "m(5) = m(6)"
   ]
  },
  {
   "cell_type": "markdown",
   "metadata": {},
   "source": []
  }
 ],
 "metadata": {
  "kernelspec": {
   "display_name": "Matlab",
   "language": "matlab",
   "name": "matlab"
  },
  "language_info": {
   "codemirror_mode": "octave",
   "file_extension": ".m",
   "help_links": [
    {
     "text": "MetaKernel Magics",
     "url": "https://metakernel.readthedocs.io/en/latest/source/README.html"
    }
   ],
   "mimetype": "text/x-octave",
   "name": "matlab",
   "version": "0.16.9"
  }
 },
 "nbformat": 4,
 "nbformat_minor": 4
}
